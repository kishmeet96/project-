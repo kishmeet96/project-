{
 "cells": [
  {
   "cell_type": "code",
   "execution_count": 21,
   "id": "fc14c2b8",
   "metadata": {},
   "outputs": [],
   "source": [
    "import pandas as pd\n",
    "import numpy as np\n",
    "import matplotlib.pyplot as plt\n",
    "import seaborn as sns\n",
    "import warnings\n",
    "warnings.filterwarnings('ignore')\n",
    "from sklearn.preprocessing import StandardScaler\n",
    "from sklearn.linear_model import LinearRegression\n",
    "from sklearn.model_selection import train_test_split\n",
    "from sklearn import metrics\n",
    "from sklearn.metrics import mean_absolute_error\n",
    "from sklearn.linear_model import Lasso,LassoCV"
   ]
  },
  {
   "cell_type": "code",
   "execution_count": 2,
   "id": "4b760a71",
   "metadata": {},
   "outputs": [
    {
     "data": {
      "text/html": [
       "<div>\n",
       "<style scoped>\n",
       "    .dataframe tbody tr th:only-of-type {\n",
       "        vertical-align: middle;\n",
       "    }\n",
       "\n",
       "    .dataframe tbody tr th {\n",
       "        vertical-align: top;\n",
       "    }\n",
       "\n",
       "    .dataframe thead th {\n",
       "        text-align: right;\n",
       "    }\n",
       "</style>\n",
       "<table border=\"1\" class=\"dataframe\">\n",
       "  <thead>\n",
       "    <tr style=\"text-align: right;\">\n",
       "      <th></th>\n",
       "      <th>Unnamed: 0</th>\n",
       "      <th>TV</th>\n",
       "      <th>radio</th>\n",
       "      <th>newspaper</th>\n",
       "      <th>sales</th>\n",
       "    </tr>\n",
       "  </thead>\n",
       "  <tbody>\n",
       "    <tr>\n",
       "      <th>0</th>\n",
       "      <td>1</td>\n",
       "      <td>230.1</td>\n",
       "      <td>37.8</td>\n",
       "      <td>69.2</td>\n",
       "      <td>22.1</td>\n",
       "    </tr>\n",
       "    <tr>\n",
       "      <th>1</th>\n",
       "      <td>2</td>\n",
       "      <td>44.5</td>\n",
       "      <td>39.3</td>\n",
       "      <td>45.1</td>\n",
       "      <td>10.4</td>\n",
       "    </tr>\n",
       "    <tr>\n",
       "      <th>2</th>\n",
       "      <td>3</td>\n",
       "      <td>17.2</td>\n",
       "      <td>45.9</td>\n",
       "      <td>69.3</td>\n",
       "      <td>9.3</td>\n",
       "    </tr>\n",
       "    <tr>\n",
       "      <th>3</th>\n",
       "      <td>4</td>\n",
       "      <td>151.5</td>\n",
       "      <td>41.3</td>\n",
       "      <td>58.5</td>\n",
       "      <td>18.5</td>\n",
       "    </tr>\n",
       "    <tr>\n",
       "      <th>4</th>\n",
       "      <td>5</td>\n",
       "      <td>180.8</td>\n",
       "      <td>10.8</td>\n",
       "      <td>58.4</td>\n",
       "      <td>12.9</td>\n",
       "    </tr>\n",
       "    <tr>\n",
       "      <th>...</th>\n",
       "      <td>...</td>\n",
       "      <td>...</td>\n",
       "      <td>...</td>\n",
       "      <td>...</td>\n",
       "      <td>...</td>\n",
       "    </tr>\n",
       "    <tr>\n",
       "      <th>195</th>\n",
       "      <td>196</td>\n",
       "      <td>38.2</td>\n",
       "      <td>3.7</td>\n",
       "      <td>13.8</td>\n",
       "      <td>7.6</td>\n",
       "    </tr>\n",
       "    <tr>\n",
       "      <th>196</th>\n",
       "      <td>197</td>\n",
       "      <td>94.2</td>\n",
       "      <td>4.9</td>\n",
       "      <td>8.1</td>\n",
       "      <td>9.7</td>\n",
       "    </tr>\n",
       "    <tr>\n",
       "      <th>197</th>\n",
       "      <td>198</td>\n",
       "      <td>177.0</td>\n",
       "      <td>9.3</td>\n",
       "      <td>6.4</td>\n",
       "      <td>12.8</td>\n",
       "    </tr>\n",
       "    <tr>\n",
       "      <th>198</th>\n",
       "      <td>199</td>\n",
       "      <td>283.6</td>\n",
       "      <td>42.0</td>\n",
       "      <td>66.2</td>\n",
       "      <td>25.5</td>\n",
       "    </tr>\n",
       "    <tr>\n",
       "      <th>199</th>\n",
       "      <td>200</td>\n",
       "      <td>232.1</td>\n",
       "      <td>8.6</td>\n",
       "      <td>8.7</td>\n",
       "      <td>13.4</td>\n",
       "    </tr>\n",
       "  </tbody>\n",
       "</table>\n",
       "<p>200 rows × 5 columns</p>\n",
       "</div>"
      ],
      "text/plain": [
       "     Unnamed: 0     TV  radio  newspaper  sales\n",
       "0             1  230.1   37.8       69.2   22.1\n",
       "1             2   44.5   39.3       45.1   10.4\n",
       "2             3   17.2   45.9       69.3    9.3\n",
       "3             4  151.5   41.3       58.5   18.5\n",
       "4             5  180.8   10.8       58.4   12.9\n",
       "..          ...    ...    ...        ...    ...\n",
       "195         196   38.2    3.7       13.8    7.6\n",
       "196         197   94.2    4.9        8.1    9.7\n",
       "197         198  177.0    9.3        6.4   12.8\n",
       "198         199  283.6   42.0       66.2   25.5\n",
       "199         200  232.1    8.6        8.7   13.4\n",
       "\n",
       "[200 rows x 5 columns]"
      ]
     },
     "execution_count": 2,
     "metadata": {},
     "output_type": "execute_result"
    }
   ],
   "source": [
    "data = pd.read_csv(\"Advertising.csv\")\n",
    "\n",
    "data"
   ]
  },
  {
   "cell_type": "code",
   "execution_count": 3,
   "id": "b8937ada",
   "metadata": {},
   "outputs": [],
   "source": [
    "data.drop(['Unnamed: 0'], axis = 1, inplace = True)"
   ]
  },
  {
   "cell_type": "code",
   "execution_count": 4,
   "id": "05fe3e1b",
   "metadata": {},
   "outputs": [
    {
     "data": {
      "text/html": [
       "<div>\n",
       "<style scoped>\n",
       "    .dataframe tbody tr th:only-of-type {\n",
       "        vertical-align: middle;\n",
       "    }\n",
       "\n",
       "    .dataframe tbody tr th {\n",
       "        vertical-align: top;\n",
       "    }\n",
       "\n",
       "    .dataframe thead th {\n",
       "        text-align: right;\n",
       "    }\n",
       "</style>\n",
       "<table border=\"1\" class=\"dataframe\">\n",
       "  <thead>\n",
       "    <tr style=\"text-align: right;\">\n",
       "      <th></th>\n",
       "      <th>TV</th>\n",
       "      <th>radio</th>\n",
       "      <th>newspaper</th>\n",
       "      <th>sales</th>\n",
       "    </tr>\n",
       "  </thead>\n",
       "  <tbody>\n",
       "    <tr>\n",
       "      <th>count</th>\n",
       "      <td>200.000000</td>\n",
       "      <td>200.000000</td>\n",
       "      <td>200.000000</td>\n",
       "      <td>200.000000</td>\n",
       "    </tr>\n",
       "    <tr>\n",
       "      <th>mean</th>\n",
       "      <td>147.042500</td>\n",
       "      <td>23.264000</td>\n",
       "      <td>30.554000</td>\n",
       "      <td>14.022500</td>\n",
       "    </tr>\n",
       "    <tr>\n",
       "      <th>std</th>\n",
       "      <td>85.854236</td>\n",
       "      <td>14.846809</td>\n",
       "      <td>21.778621</td>\n",
       "      <td>5.217457</td>\n",
       "    </tr>\n",
       "    <tr>\n",
       "      <th>min</th>\n",
       "      <td>0.700000</td>\n",
       "      <td>0.000000</td>\n",
       "      <td>0.300000</td>\n",
       "      <td>1.600000</td>\n",
       "    </tr>\n",
       "    <tr>\n",
       "      <th>25%</th>\n",
       "      <td>74.375000</td>\n",
       "      <td>9.975000</td>\n",
       "      <td>12.750000</td>\n",
       "      <td>10.375000</td>\n",
       "    </tr>\n",
       "    <tr>\n",
       "      <th>50%</th>\n",
       "      <td>149.750000</td>\n",
       "      <td>22.900000</td>\n",
       "      <td>25.750000</td>\n",
       "      <td>12.900000</td>\n",
       "    </tr>\n",
       "    <tr>\n",
       "      <th>75%</th>\n",
       "      <td>218.825000</td>\n",
       "      <td>36.525000</td>\n",
       "      <td>45.100000</td>\n",
       "      <td>17.400000</td>\n",
       "    </tr>\n",
       "    <tr>\n",
       "      <th>max</th>\n",
       "      <td>296.400000</td>\n",
       "      <td>49.600000</td>\n",
       "      <td>114.000000</td>\n",
       "      <td>27.000000</td>\n",
       "    </tr>\n",
       "  </tbody>\n",
       "</table>\n",
       "</div>"
      ],
      "text/plain": [
       "               TV       radio   newspaper       sales\n",
       "count  200.000000  200.000000  200.000000  200.000000\n",
       "mean   147.042500   23.264000   30.554000   14.022500\n",
       "std     85.854236   14.846809   21.778621    5.217457\n",
       "min      0.700000    0.000000    0.300000    1.600000\n",
       "25%     74.375000    9.975000   12.750000   10.375000\n",
       "50%    149.750000   22.900000   25.750000   12.900000\n",
       "75%    218.825000   36.525000   45.100000   17.400000\n",
       "max    296.400000   49.600000  114.000000   27.000000"
      ]
     },
     "execution_count": 4,
     "metadata": {},
     "output_type": "execute_result"
    }
   ],
   "source": [
    "data.describe()"
   ]
  },
  {
   "cell_type": "code",
   "execution_count": 5,
   "id": "dae816f7",
   "metadata": {},
   "outputs": [
    {
     "name": "stdout",
     "output_type": "stream",
     "text": [
      "<class 'pandas.core.frame.DataFrame'>\n",
      "RangeIndex: 200 entries, 0 to 199\n",
      "Data columns (total 4 columns):\n",
      " #   Column     Non-Null Count  Dtype  \n",
      "---  ------     --------------  -----  \n",
      " 0   TV         200 non-null    float64\n",
      " 1   radio      200 non-null    float64\n",
      " 2   newspaper  200 non-null    float64\n",
      " 3   sales      200 non-null    float64\n",
      "dtypes: float64(4)\n",
      "memory usage: 6.4 KB\n"
     ]
    }
   ],
   "source": [
    "data.info()"
   ]
  },
  {
   "cell_type": "code",
   "execution_count": 6,
   "id": "1f4eab07",
   "metadata": {},
   "outputs": [
    {
     "data": {
      "text/plain": [
       "TV           0\n",
       "radio        0\n",
       "newspaper    0\n",
       "sales        0\n",
       "dtype: int64"
      ]
     },
     "execution_count": 6,
     "metadata": {},
     "output_type": "execute_result"
    }
   ],
   "source": [
    "data.isna().sum()"
   ]
  },
  {
   "cell_type": "code",
   "execution_count": 7,
   "id": "2b5f745f",
   "metadata": {},
   "outputs": [
    {
     "data": {
      "image/png": "[encoded data removed]",
      "text/plain": [
       "<Figure size 720x360 with 1 Axes>"
      ]
     },
     "metadata": {
      "needs_background": "light"
     },
     "output_type": "display_data"
    }
   ],
   "source": [
    "plt.figure(figsize=(10,5))\n",
    "sns.boxplot(data = data)\n",
    "plt.show()"
   ]
  },
  {
   "cell_type": "code",
   "execution_count": 8,
   "id": "136a4f37",
   "metadata": {},
   "outputs": [
    {
     "data": {
      "image/png": "[encoded data removed]",
      "text/plain": [
       "<Figure size 1080x360 with 4 Axes>"
      ]
     },
     "metadata": {
      "needs_background": "light"
     },
     "output_type": "display_data"
    }
   ],
   "source": [
    "plt.figure(figsize=(15,5))\n",
    "plotnumber = 1  \n",
    "for column in data:\n",
    "    if plotnumber<= 4:   \n",
    "        ax = plt.subplot(1,4,plotnumber) \n",
    "        sns.distplot(data[column] ,  bins= 25\n",
    "                     , color= 'purple')\n",
    "        \n",
    "        \n",
    "    plotnumber+=1\n",
    "plt.tight_layout()    "
   ]
  },
  {
   "cell_type": "code",
   "execution_count": 9,
   "id": "3157413c",
   "metadata": {},
   "outputs": [],
   "source": [
    "# Applying Square Root Transformation on Newspaper Column \n",
    "\n",
    "data['newspaper'] = data.newspaper**(1/2)"
   ]
  },
  {
   "cell_type": "code",
   "execution_count": 10,
   "id": "f5fd8d89",
   "metadata": {},
   "outputs": [
    {
     "data": {
      "image/png": "[encoded data removed]",
      "text/plain": [
       "<Figure size 1080x360 with 4 Axes>"
      ]
     },
     "metadata": {
      "needs_background": "light"
     },
     "output_type": "display_data"
    }
   ],
   "source": [
    "plt.figure(figsize=(15,5))\n",
    "plotnumber = 1  \n",
    "for column in data:\n",
    "    if plotnumber<= 4:   \n",
    "        ax = plt.subplot(1,4,plotnumber) \n",
    "        sns.distplot(data[column] ,  bins= 25\n",
    "                     , color= 'purple')\n",
    "        \n",
    "        \n",
    "    plotnumber+=1\n",
    "plt.tight_layout()    "
   ]
  },
  {
   "cell_type": "code",
   "execution_count": 11,
   "id": "3caff850",
   "metadata": {},
   "outputs": [
    {
     "data": {
      "text/plain": [
       "sales        0.407571\n",
       "radio        0.094175\n",
       "newspaper    0.062388\n",
       "TV          -0.069853\n",
       "dtype: float64"
      ]
     },
     "execution_count": 11,
     "metadata": {},
     "output_type": "execute_result"
    }
   ],
   "source": [
    "# Checking Skewness\n",
    "data.skew().sort_values(ascending = False)"
   ]
  },
  {
   "cell_type": "code",
   "execution_count": 12,
   "id": "6dddf7e1",
   "metadata": {},
   "outputs": [],
   "source": [
    "# Changing the data type of columns\n",
    "data['TV'] = data.TV.astype(int)\n",
    "data['radio'] = data.radio.astype(int)\n",
    "data['newspaper'] = data.newspaper.astype(int)\n",
    "data['sales'] = data.sales.astype(int)"
   ]
  },
  {
   "cell_type": "code",
   "execution_count": 13,
   "id": "fb39898f",
   "metadata": {},
   "outputs": [
    {
     "name": "stdout",
     "output_type": "stream",
     "text": [
      "<class 'pandas.core.frame.DataFrame'>\n",
      "RangeIndex: 200 entries, 0 to 199\n",
      "Data columns (total 4 columns):\n",
      " #   Column     Non-Null Count  Dtype\n",
      "---  ------     --------------  -----\n",
      " 0   TV         200 non-null    int32\n",
      " 1   radio      200 non-null    int32\n",
      " 2   newspaper  200 non-null    int32\n",
      " 3   sales      200 non-null    int32\n",
      "dtypes: int32(4)\n",
      "memory usage: 3.2 KB\n"
     ]
    }
   ],
   "source": [
    "data.info()"
   ]
  },
  {
   "cell_type": "code",
   "execution_count": 14,
   "id": "85b3ac25",
   "metadata": {},
   "outputs": [],
   "source": [
    "x = data.drop('sales', axis =1)\n",
    "y = data.sales"
   ]
  },
  {
   "cell_type": "code",
   "execution_count": 15,
   "id": "6da92d60",
   "metadata": {},
   "outputs": [
    {
     "data": {
      "text/plain": [
       "array([[ 0.97453682,  0.96086822,  1.62189468],\n",
       "       [-1.19810909,  1.09610653,  0.65504241],\n",
       "       [-1.51349317,  1.50182147,  1.62189468],\n",
       "       [ 0.05174635,  1.23134484,  1.13846855],\n",
       "       [ 0.39049222, -0.86484901,  1.13846855],\n",
       "       [-1.6186212 ,  1.70467894,  1.62189468],\n",
       "       [-1.04625749,  0.62277243, -0.31180986],\n",
       "       [-0.3103613 , -0.2562766 , -0.79523599],\n",
       "       [-1.6186212 , -1.40580227, -1.76208826],\n",
       "       [ 0.61242916, -1.40580227, -0.31180986],\n",
       "       [-0.94112946, -1.2029448 , -0.31180986],\n",
       "       [ 0.78764254,  0.08181918, -1.27866213],\n",
       "       [-1.44340782,  0.8256299 ,  1.62189468],\n",
       "       [-0.57902181, -1.06770648, -1.27866213],\n",
       "       [ 0.67083362,  0.62277243,  0.65504241],\n",
       "       [ 0.5657056 ,  1.63705978,  1.13846855],\n",
       "       [-0.92944857,  0.89324906,  2.58874695],\n",
       "       [ 1.5702623 ,  1.09610653,  1.13846855],\n",
       "       [-0.90608679, -0.18865745, -0.31180986],\n",
       "       [ 0.00502278,  0.01420002, -0.31180986],\n",
       "       [ 0.83436611,  0.28467665,  1.13846855],\n",
       "       [ 1.05630306, -1.2029448 , -0.31180986],\n",
       "       [-1.56021674, -0.52675323,  1.13846855],\n",
       "       [ 0.95117503, -0.45913407,  0.17161628],\n",
       "       [-0.98785303, -0.7296107 , -0.31180986],\n",
       "       [ 1.34832536, -1.33818311, -0.31180986],\n",
       "       [-0.05338168,  0.41991496, -0.79523599],\n",
       "       [ 1.09134573, -0.45913407, -0.31180986],\n",
       "       [ 1.18479287,  0.28467665, -0.31180986],\n",
       "       [-0.8944059 , -0.45913407,  0.65504241],\n",
       "       [ 1.69875212,  0.35229581,  0.65504241],\n",
       "       [-0.40380843, -0.39151492,  0.65504241],\n",
       "       [-0.57902181, -1.47342143,  0.17161628],\n",
       "       [ 1.38336803, -0.18865745, -2.2455144 ],\n",
       "       [-0.6023836 , -1.47342143, -1.27866213],\n",
       "       [ 1.67539033, -1.27056396, -1.27866213],\n",
       "       [ 1.39504893,  1.36658316, -1.27866213],\n",
       "       [-0.84768233,  1.7722981 ,  0.65504241],\n",
       "       [-1.20978998,  0.21705749,  0.17161628],\n",
       "       [ 0.95117503,  0.96086822,  0.17161628],\n",
       "       [ 0.64747184, -0.05341913,  0.17161628],\n",
       "       [ 0.35544954,  0.69039159,  0.65504241],\n",
       "       [ 1.71043301,  0.28467665, -1.76208826],\n",
       "       [ 0.69419541, -1.00008733,  0.17161628],\n",
       "       [-1.42004603,  0.14943834,  0.65504241],\n",
       "       [ 0.33208776, -0.05341913,  0.17161628],\n",
       "       [-0.67246895, -0.93246817,  0.17161628],\n",
       "       [ 1.07966484,  1.23134484, -0.31180986],\n",
       "       [ 0.93949414, -0.52675323,  1.13846855],\n",
       "       [-0.94112946, -0.79722986,  0.65504241],\n",
       "       [ 0.61242916, -1.33818311,  0.17161628],\n",
       "       [-0.54397914, -0.93246817, -1.76208826],\n",
       "       [ 0.81100433,  1.23134484,  0.65504241],\n",
       "       [ 0.413854  ,  1.56944063,  1.13846855],\n",
       "       [ 1.34832536,  0.35229581, -0.79523599],\n",
       "       [ 0.60074827,  1.7722981 ,  1.13846855],\n",
       "       [-1.63030209,  0.35229581,  0.65504241],\n",
       "       [-0.12346703, -0.2562766 , -0.31180986],\n",
       "       [ 0.74091898,  1.7722981 ,  0.65504241],\n",
       "       [ 0.74091898,  0.41991496, -0.79523599],\n",
       "       [-1.09298106, -1.40580227, -0.31180986],\n",
       "       [ 1.33664447,  1.298964  ,  1.13846855],\n",
       "       [ 1.07966484, -0.52675323,  0.17161628],\n",
       "       [-0.52061735,  0.41991496, -1.27866213],\n",
       "       [-0.18187149,  1.298964  ,  0.17161628],\n",
       "       [-0.90608679, -0.93246817, -2.2455144 ],\n",
       "       [-1.34996068,  0.08181918, -1.76208826],\n",
       "       [-0.08842435, -0.59437239, -0.79523599],\n",
       "       [ 1.05630306,  0.28467665, -0.79523599],\n",
       "       [ 0.81100433,  1.36658316,  0.17161628],\n",
       "       [ 0.61242916,  0.48753412,  0.65504241],\n",
       "       [-0.43885111, -0.59437239,  0.17161628],\n",
       "       [-1.40836514,  0.69039159, -0.31180986],\n",
       "       [-0.20523327, -1.2029448 ,  0.17161628],\n",
       "       [ 0.77596165,  0.08181918, -0.79523599],\n",
       "       [-1.52517406,  1.36658316,  2.10532082],\n",
       "       [-1.39668425, -1.47342143, -0.31180986],\n",
       "       [-0.3103613 ,  0.35229581, -0.79523599],\n",
       "       [-1.65366387,  0.41991496, -0.79523599],\n",
       "       [-0.35708487, -1.06770648, -0.31180986],\n",
       "       [-0.82432054,  0.21705749, -0.31180986],\n",
       "       [ 1.07966484, -1.27056396,  0.65504241],\n",
       "       [-0.83600144, -0.18865745,  0.17161628],\n",
       "       [-0.91776768,  1.43420231,  0.17161628],\n",
       "       [ 0.77596165,  1.36658316,  0.17161628],\n",
       "       [ 0.54234381, -0.32389576,  1.62189468],\n",
       "       [-0.82432054,  0.28467665, -0.31180986],\n",
       "       [-0.42717022,  1.16372569,  1.13846855],\n",
       "       [-0.68414984,  0.14943834,  1.62189468],\n",
       "       [-0.43885111,  1.63705978,  1.13846855],\n",
       "       [-0.14682881, -1.27056396, -0.79523599],\n",
       "       [-1.38500336, -1.47342143,  0.17161628],\n",
       "       [ 0.82268522,  0.69039159,  1.13846855],\n",
       "       [ 1.20815465,  0.89324906,  1.62189468],\n",
       "       [-0.46221289, -0.59437239, -0.79523599],\n",
       "       [ 0.19191705,  0.55515328,  1.13846855],\n",
       "       [ 0.58906738, -1.33818311, -1.27866213],\n",
       "       [ 0.43721579, -0.12103829, -0.31180986],\n",
       "       [ 1.66370944,  1.298964  ,  1.13846855],\n",
       "       [-0.13514792,  1.23134484,  0.65504241],\n",
       "       [ 0.88108968, -1.27056396,  1.13846855],\n",
       "       [ 1.74547568,  0.89324906,  2.58874695],\n",
       "       [ 1.55858141, -0.86484901, -0.31180986],\n",
       "       [ 0.47225846, -0.39151492, -0.31180986],\n",
       "       [ 1.06798395,  0.75801075, -1.27866213],\n",
       "       [-0.11178614,  1.56944063,  1.13846855],\n",
       "       [-1.42004603, -0.79722986,  0.17161628],\n",
       "       [-0.66078806, -1.54104058, -0.31180986],\n",
       "       [-1.56021674, -1.54104058,  0.17161628],\n",
       "       [ 1.26655911,  0.21705749, -1.27866213],\n",
       "       [ 0.91613236, -1.00008733,  1.13846855],\n",
       "       [ 1.10302663,  1.02848737, -0.31180986],\n",
       "       [ 0.33208776, -0.52675323, -1.76208826],\n",
       "       [ 0.72923808, -0.18865745, -0.79523599],\n",
       "       [-0.80095876,  1.56944063,  0.17161628],\n",
       "       [-0.83600144,  0.8256299 ,  1.13846855],\n",
       "       [-0.08842435, -0.59437239,  0.17161628],\n",
       "       [-0.82432054, -1.54104058, -0.79523599],\n",
       "       [-0.25195684,  0.89324906,  1.62189468],\n",
       "       [-1.49013139, -0.45913407, -0.31180986],\n",
       "       [-0.06506257,  0.21705749,  0.65504241],\n",
       "       [-1.50181228, -0.12103829,  1.13846855],\n",
       "       [ 0.90445146, -1.40580227, -0.79523599],\n",
       "       [-0.27531862,  0.75801075, -0.79523599],\n",
       "       [ 0.96285592,  0.62277243,  1.62189468],\n",
       "       [-0.69583073, -0.79722986,  0.17161628],\n",
       "       [-1.63030209,  1.02848737,  1.13846855],\n",
       "       [-0.77759698, -1.54104058, -0.79523599],\n",
       "       [ 0.8577279 ,  1.7722981 , -1.76208826],\n",
       "       [-1.02289571, -0.7296107 ,  0.65504241],\n",
       "       [-1.71206833,  1.09610653, -1.27866213],\n",
       "       [ 1.38336803, -1.40580227,  0.65504241],\n",
       "       [-1.6186212 ,  0.28467665, -1.76208826],\n",
       "       [ 0.846047  ,  0.69039159,  0.65504241],\n",
       "       [-1.29155622,  1.02848737,  1.62189468],\n",
       "       [-1.15138552,  1.63705978, -1.27866213],\n",
       "       [-1.42004603,  1.09610653, -0.79523599],\n",
       "       [ 1.47681517,  0.35229581,  1.13846855],\n",
       "       [-1.20978998,  0.14943834, -0.31180986],\n",
       "       [ 0.43721579,  1.36658316, -1.76208826],\n",
       "       [-0.85936322, -0.39151492, -0.79523599],\n",
       "       [ 0.54234381,  0.8256299 ,  1.62189468],\n",
       "       [ 0.8577279 ,  0.69039159,  0.65504241],\n",
       "       [-0.49725557, -1.2029448 ,  0.17161628],\n",
       "       [-0.59070271, -0.59437239,  0.65504241],\n",
       "       [-0.07674346, -1.47342143, -0.79523599],\n",
       "       [ 1.09134573, -1.06770648, -1.27866213],\n",
       "       [ 1.12638841,  1.7722981 ,  0.65504241],\n",
       "       [-1.26819444,  1.16372569, -0.79523599],\n",
       "       [-1.19810909,  0.14943834, -0.31180986],\n",
       "       [ 1.55858141, -0.66199154,  0.65504241],\n",
       "       [-0.29868041, -1.00008733,  0.65504241],\n",
       "       [ 0.58906738,  0.01420002, -0.79523599],\n",
       "       [ 0.28536419,  1.09610653,  0.65504241],\n",
       "       [ 0.47225846, -0.12103829, -0.79523599],\n",
       "       [-1.66534477, -0.79722986, -1.27866213],\n",
       "       [-0.62574538,  1.36658316,  1.13846855],\n",
       "       [ 0.02838457, -1.47342143, -0.31180986],\n",
       "       [-1.58357852,  0.89324906,  0.65504241],\n",
       "       [-0.18187149, -0.32389576,  0.17161628],\n",
       "       [ 0.29704508, -0.32389576,  0.17161628],\n",
       "       [-0.71919252,  0.8256299 ,  1.13846855],\n",
       "       [ 0.48393935, -0.32389576,  0.17161628],\n",
       "       [ 0.19191705,  0.89324906, -1.27866213],\n",
       "       [-0.34540397, -0.59437239, -1.27866213],\n",
       "       [ 1.02126038, -1.33818311,  2.10532082],\n",
       "       [-1.51349317,  0.96086822, -0.31180986],\n",
       "       [ 0.69419541, -1.2029448 , -0.31180986],\n",
       "       [ 0.79932344,  0.01420002,  1.13846855],\n",
       "       [ 1.60530498, -0.86484901, -1.27866213],\n",
       "       [-1.12802374, -0.79722986, -0.31180986],\n",
       "       [ 0.20359795, -0.18865745,  0.65504241],\n",
       "       [-1.49013139, -0.18865745, -0.31180986],\n",
       "       [ 0.25032151, -1.06770648, -0.79523599],\n",
       "       [ 0.88108968, -1.33818311, -0.79523599],\n",
       "       [ 1.51185784,  1.70467894,  0.65504241],\n",
       "       [ 1.18479287,  0.48753412, -0.31180986],\n",
       "       [ 0.2736833 , -1.06770648,  0.17161628],\n",
       "       [ 1.51185784, -1.40580227, -0.31180986],\n",
       "       [ 0.21527884, -0.86484901, -0.31180986],\n",
       "       [ 0.11015081, -1.40580227, -1.27866213],\n",
       "       [ 0.83436611, -1.2029448 ,  0.17161628],\n",
       "       [-1.05793838, -1.2029448 ,  0.17161628],\n",
       "       [ 1.64034766,  1.36658316,  1.62189468],\n",
       "       [ 1.24319733, -0.12103829,  0.17161628],\n",
       "       [ 0.68251452,  1.50182147, -0.31180986],\n",
       "       [-0.08842435, -1.40580227,  0.17161628],\n",
       "       [ 0.51898203,  0.35229581, -0.31180986],\n",
       "       [ 1.62866676, -0.66199154, -1.76208826],\n",
       "       [-1.50181228, -0.7296107 , -0.31180986],\n",
       "       [-1.25651355,  1.23134484, -1.27866213],\n",
       "       [-0.83600144, -0.86484901, -1.27866213],\n",
       "       [-1.51349317, -1.27056396,  0.17161628],\n",
       "       [ 0.22695973,  1.298964  , -1.76208826],\n",
       "       [ 0.02838457,  0.8256299 , -1.27866213],\n",
       "       [-1.26819444, -1.33818311, -0.79523599],\n",
       "       [-0.61406449, -1.27056396, -1.27866213],\n",
       "       [ 0.35544954, -0.93246817, -1.27866213],\n",
       "       [ 1.59362409,  1.298964  ,  1.62189468],\n",
       "       [ 0.9978986 , -1.00008733, -1.27866213]])"
      ]
     },
     "execution_count": 15,
     "metadata": {},
     "output_type": "execute_result"
    }
   ],
   "source": [
    "sc =StandardScaler()\n",
    "sc.fit_transform(x)"
   ]
  },
  {
   "cell_type": "code",
   "execution_count": 16,
   "id": "cbd35b5b",
   "metadata": {},
   "outputs": [],
   "source": [
    "x_train,x_test,y_train,y_test =train_test_split(x,y ,test_size=0.30 ,random_state = 12)"
   ]
  },
  {
   "cell_type": "code",
   "execution_count": 17,
   "id": "88f4cd39",
   "metadata": {},
   "outputs": [
    {
     "data": {
      "text/html": [
       "<style>#sk-container-id-1 {color: black;background-color: white;}#sk-container-id-1 pre{padding: 0;}#sk-container-id-1 div.sk-toggleable {background-color: white;}#sk-container-id-1 label.sk-toggleable__label {cursor: pointer;display: block;width: 100%;margin-bottom: 0;padding: 0.3em;box-sizing: border-box;text-align: center;}#sk-container-id-1 label.sk-toggleable__label-arrow:before {content: \"▸\";float: left;margin-right: 0.25em;color: #696969;}#sk-container-id-1 label.sk-toggleable__label-arrow:hover:before {color: black;}#sk-container-id-1 div.sk-estimator:hover label.sk-toggleable__label-arrow:before {color: black;}#sk-container-id-1 div.sk-toggleable__content {max-height: 0;max-width: 0;overflow: hidden;text-align: left;background-color: #f0f8ff;}#sk-container-id-1 div.sk-toggleable__content pre {margin: 0.2em;color: black;border-radius: 0.25em;background-color: #f0f8ff;}#sk-container-id-1 input.sk-toggleable__control:checked~div.sk-toggleable__content {max-height: 200px;max-width: 100%;overflow: auto;}#sk-container-id-1 input.sk-toggleable__control:checked~label.sk-toggleable__label-arrow:before {content: \"▾\";}#sk-container-id-1 div.sk-estimator input.sk-toggleable__control:checked~label.sk-toggleable__label {background-color: #d4ebff;}#sk-container-id-1 div.sk-label input.sk-toggleable__control:checked~label.sk-toggleable__label {background-color: #d4ebff;}#sk-container-id-1 input.sk-hidden--visually {border: 0;clip: rect(1px 1px 1px 1px);clip: rect(1px, 1px, 1px, 1px);height: 1px;margin: -1px;overflow: hidden;padding: 0;position: absolute;width: 1px;}#sk-container-id-1 div.sk-estimator {font-family: monospace;background-color: #f0f8ff;border: 1px dotted black;border-radius: 0.25em;box-sizing: border-box;margin-bottom: 0.5em;}#sk-container-id-1 div.sk-estimator:hover {background-color: #d4ebff;}#sk-container-id-1 div.sk-parallel-item::after {content: \"\";width: 100%;border-bottom: 1px solid gray;flex-grow: 1;}#sk-container-id-1 div.sk-label:hover label.sk-toggleable__label {background-color: #d4ebff;}#sk-container-id-1 div.sk-serial::before {content: \"\";position: absolute;border-left: 1px solid gray;box-sizing: border-box;top: 0;bottom: 0;left: 50%;z-index: 0;}#sk-container-id-1 div.sk-serial {display: flex;flex-direction: column;align-items: center;background-color: white;padding-right: 0.2em;padding-left: 0.2em;position: relative;}#sk-container-id-1 div.sk-item {position: relative;z-index: 1;}#sk-container-id-1 div.sk-parallel {display: flex;align-items: stretch;justify-content: center;background-color: white;position: relative;}#sk-container-id-1 div.sk-item::before, #sk-container-id-1 div.sk-parallel-item::before {content: \"\";position: absolute;border-left: 1px solid gray;box-sizing: border-box;top: 0;bottom: 0;left: 50%;z-index: -1;}#sk-container-id-1 div.sk-parallel-item {display: flex;flex-direction: column;z-index: 1;position: relative;background-color: white;}#sk-container-id-1 div.sk-parallel-item:first-child::after {align-self: flex-end;width: 50%;}#sk-container-id-1 div.sk-parallel-item:last-child::after {align-self: flex-start;width: 50%;}#sk-container-id-1 div.sk-parallel-item:only-child::after {width: 0;}#sk-container-id-1 div.sk-dashed-wrapped {border: 1px dashed gray;margin: 0 0.4em 0.5em 0.4em;box-sizing: border-box;padding-bottom: 0.4em;background-color: white;}#sk-container-id-1 div.sk-label label {font-family: monospace;font-weight: bold;display: inline-block;line-height: 1.2em;}#sk-container-id-1 div.sk-label-container {text-align: center;}#sk-container-id-1 div.sk-container {/* jupyter's `normalize.less` sets `[hidden] { display: none; }` but bootstrap.min.css set `[hidden] { display: none !important; }` so we also need the `!important` here to be able to override the default hidden behavior on the sphinx rendered scikit-learn.org. See: https://github.com/scikit-learn/scikit-learn/issues/21755 */display: inline-block !important;position: relative;}#sk-container-id-1 div.sk-text-repr-fallback {display: none;}</style><div id=\"sk-container-id-1\" class=\"sk-top-container\"><div class=\"sk-text-repr-fallback\"><pre>LinearRegression()</pre><b>In a Jupyter environment, please rerun this cell to show the HTML representation or trust the notebook. <br />On GitHub, the HTML representation is unable to render, please try loading this page with nbviewer.org.</b></div><div class=\"sk-container\" hidden><div class=\"sk-item\"><div class=\"sk-estimator sk-toggleable\"><input class=\"sk-toggleable__control sk-hidden--visually\" id=\"sk-estimator-id-1\" type=\"checkbox\" checked><label for=\"sk-estimator-id-1\" class=\"sk-toggleable__label sk-toggleable__label-arrow\">LinearRegression</label><div class=\"sk-toggleable__content\"><pre>LinearRegression()</pre></div></div></div></div></div>"
      ],
      "text/plain": [
       "LinearRegression()"
      ]
     },
     "execution_count": 17,
     "metadata": {},
     "output_type": "execute_result"
    }
   ],
   "source": [
    "regression = LinearRegression()\n",
    "\n",
    "regression.fit(x_train,y_train)"
   ]
  },
  {
   "cell_type": "code",
   "execution_count": 18,
   "id": "44e4db0c",
   "metadata": {},
   "outputs": [],
   "source": [
    "y_pred =regression.predict(x_test)"
   ]
  },
  {
   "cell_type": "code",
   "execution_count": 19,
   "id": "ee1e2490",
   "metadata": {},
   "outputs": [
    {
     "name": "stdout",
     "output_type": "stream",
     "text": [
      "r square score:- 0.9189272097178287\n"
     ]
    },
    {
     "data": {
      "text/plain": [
       "1.278089669721474"
      ]
     },
     "execution_count": 19,
     "metadata": {},
     "output_type": "execute_result"
    }
   ],
   "source": [
    "r_square = metrics.r2_score(y_test,y_pred)\n",
    "print('r square score:-',r_square)\n",
    "mean_absolute_error(y_test,y_pred)"
   ]
  },
  {
   "cell_type": "code",
   "execution_count": 20,
   "id": "f4271058",
   "metadata": {},
   "outputs": [
    {
     "data": {
      "image/png": "[encoded data removed]",
      "text/plain": [
       "<Figure size 432x288 with 1 Axes>"
      ]
     },
     "metadata": {
      "needs_background": "light"
     },
     "output_type": "display_data"
    }
   ],
   "source": [
    "plt.scatter(y_test,y_pred)\n",
    "plt.xlabel('Actual Sales')\n",
    "plt.ylabel('Predicted Sales')\n",
    "plt.title('Actual Model vs Predicted Model')\n",
    "plt.show()"
   ]
  },
  {
   "cell_type": "markdown",
   "id": "27891d54",
   "metadata": {},
   "source": [
    "## Applying LASSO"
   ]
  },
  {
   "cell_type": "code",
   "execution_count": 22,
   "id": "82c43e64",
   "metadata": {},
   "outputs": [
    {
     "data": {
      "text/html": [
       "<style>#sk-container-id-2 {color: black;background-color: white;}#sk-container-id-2 pre{padding: 0;}#sk-container-id-2 div.sk-toggleable {background-color: white;}#sk-container-id-2 label.sk-toggleable__label {cursor: pointer;display: block;width: 100%;margin-bottom: 0;padding: 0.3em;box-sizing: border-box;text-align: center;}#sk-container-id-2 label.sk-toggleable__label-arrow:before {content: \"▸\";float: left;margin-right: 0.25em;color: #696969;}#sk-container-id-2 label.sk-toggleable__label-arrow:hover:before {color: black;}#sk-container-id-2 div.sk-estimator:hover label.sk-toggleable__label-arrow:before {color: black;}#sk-container-id-2 div.sk-toggleable__content {max-height: 0;max-width: 0;overflow: hidden;text-align: left;background-color: #f0f8ff;}#sk-container-id-2 div.sk-toggleable__content pre {margin: 0.2em;color: black;border-radius: 0.25em;background-color: #f0f8ff;}#sk-container-id-2 input.sk-toggleable__control:checked~div.sk-toggleable__content {max-height: 200px;max-width: 100%;overflow: auto;}#sk-container-id-2 input.sk-toggleable__control:checked~label.sk-toggleable__label-arrow:before {content: \"▾\";}#sk-container-id-2 div.sk-estimator input.sk-toggleable__control:checked~label.sk-toggleable__label {background-color: #d4ebff;}#sk-container-id-2 div.sk-label input.sk-toggleable__control:checked~label.sk-toggleable__label {background-color: #d4ebff;}#sk-container-id-2 input.sk-hidden--visually {border: 0;clip: rect(1px 1px 1px 1px);clip: rect(1px, 1px, 1px, 1px);height: 1px;margin: -1px;overflow: hidden;padding: 0;position: absolute;width: 1px;}#sk-container-id-2 div.sk-estimator {font-family: monospace;background-color: #f0f8ff;border: 1px dotted black;border-radius: 0.25em;box-sizing: border-box;margin-bottom: 0.5em;}#sk-container-id-2 div.sk-estimator:hover {background-color: #d4ebff;}#sk-container-id-2 div.sk-parallel-item::after {content: \"\";width: 100%;border-bottom: 1px solid gray;flex-grow: 1;}#sk-container-id-2 div.sk-label:hover label.sk-toggleable__label {background-color: #d4ebff;}#sk-container-id-2 div.sk-serial::before {content: \"\";position: absolute;border-left: 1px solid gray;box-sizing: border-box;top: 0;bottom: 0;left: 50%;z-index: 0;}#sk-container-id-2 div.sk-serial {display: flex;flex-direction: column;align-items: center;background-color: white;padding-right: 0.2em;padding-left: 0.2em;position: relative;}#sk-container-id-2 div.sk-item {position: relative;z-index: 1;}#sk-container-id-2 div.sk-parallel {display: flex;align-items: stretch;justify-content: center;background-color: white;position: relative;}#sk-container-id-2 div.sk-item::before, #sk-container-id-2 div.sk-parallel-item::before {content: \"\";position: absolute;border-left: 1px solid gray;box-sizing: border-box;top: 0;bottom: 0;left: 50%;z-index: -1;}#sk-container-id-2 div.sk-parallel-item {display: flex;flex-direction: column;z-index: 1;position: relative;background-color: white;}#sk-container-id-2 div.sk-parallel-item:first-child::after {align-self: flex-end;width: 50%;}#sk-container-id-2 div.sk-parallel-item:last-child::after {align-self: flex-start;width: 50%;}#sk-container-id-2 div.sk-parallel-item:only-child::after {width: 0;}#sk-container-id-2 div.sk-dashed-wrapped {border: 1px dashed gray;margin: 0 0.4em 0.5em 0.4em;box-sizing: border-box;padding-bottom: 0.4em;background-color: white;}#sk-container-id-2 div.sk-label label {font-family: monospace;font-weight: bold;display: inline-block;line-height: 1.2em;}#sk-container-id-2 div.sk-label-container {text-align: center;}#sk-container-id-2 div.sk-container {/* jupyter's `normalize.less` sets `[hidden] { display: none; }` but bootstrap.min.css set `[hidden] { display: none !important; }` so we also need the `!important` here to be able to override the default hidden behavior on the sphinx rendered scikit-learn.org. See: https://github.com/scikit-learn/scikit-learn/issues/21755 */display: inline-block !important;position: relative;}#sk-container-id-2 div.sk-text-repr-fallback {display: none;}</style><div id=\"sk-container-id-2\" class=\"sk-top-container\"><div class=\"sk-text-repr-fallback\"><pre>LassoCV(max_iter=100, normalize=True)</pre><b>In a Jupyter environment, please rerun this cell to show the HTML representation or trust the notebook. <br />On GitHub, the HTML representation is unable to render, please try loading this page with nbviewer.org.</b></div><div class=\"sk-container\" hidden><div class=\"sk-item\"><div class=\"sk-estimator sk-toggleable\"><input class=\"sk-toggleable__control sk-hidden--visually\" id=\"sk-estimator-id-2\" type=\"checkbox\" checked><label for=\"sk-estimator-id-2\" class=\"sk-toggleable__label sk-toggleable__label-arrow\">LassoCV</label><div class=\"sk-toggleable__content\"><pre>LassoCV(max_iter=100, normalize=True)</pre></div></div></div></div></div>"
      ],
      "text/plain": [
       "LassoCV(max_iter=100, normalize=True)"
      ]
     },
     "execution_count": 22,
     "metadata": {},
     "output_type": "execute_result"
    }
   ],
   "source": [
    "# LassoCV will return best alpha after max iteration\n",
    "lasscv = LassoCV(alphas = None , max_iter = 100 , normalize = True)\n",
    "lasscv.fit(x_train, y_train)"
   ]
  },
  {
   "cell_type": "code",
   "execution_count": 23,
   "id": "ff4bd20b",
   "metadata": {},
   "outputs": [
    {
     "data": {
      "text/plain": [
       "0.003225351634512081"
      ]
     },
     "execution_count": 23,
     "metadata": {},
     "output_type": "execute_result"
    }
   ],
   "source": [
    "# Best alpha parameter\n",
    "alpha = lasscv.alpha_\n",
    "\n",
    "alpha"
   ]
  },
  {
   "cell_type": "code",
   "execution_count": 24,
   "id": "2f68d955",
   "metadata": {},
   "outputs": [
    {
     "data": {
      "text/html": [
       "<style>#sk-container-id-3 {color: black;background-color: white;}#sk-container-id-3 pre{padding: 0;}#sk-container-id-3 div.sk-toggleable {background-color: white;}#sk-container-id-3 label.sk-toggleable__label {cursor: pointer;display: block;width: 100%;margin-bottom: 0;padding: 0.3em;box-sizing: border-box;text-align: center;}#sk-container-id-3 label.sk-toggleable__label-arrow:before {content: \"▸\";float: left;margin-right: 0.25em;color: #696969;}#sk-container-id-3 label.sk-toggleable__label-arrow:hover:before {color: black;}#sk-container-id-3 div.sk-estimator:hover label.sk-toggleable__label-arrow:before {color: black;}#sk-container-id-3 div.sk-toggleable__content {max-height: 0;max-width: 0;overflow: hidden;text-align: left;background-color: #f0f8ff;}#sk-container-id-3 div.sk-toggleable__content pre {margin: 0.2em;color: black;border-radius: 0.25em;background-color: #f0f8ff;}#sk-container-id-3 input.sk-toggleable__control:checked~div.sk-toggleable__content {max-height: 200px;max-width: 100%;overflow: auto;}#sk-container-id-3 input.sk-toggleable__control:checked~label.sk-toggleable__label-arrow:before {content: \"▾\";}#sk-container-id-3 div.sk-estimator input.sk-toggleable__control:checked~label.sk-toggleable__label {background-color: #d4ebff;}#sk-container-id-3 div.sk-label input.sk-toggleable__control:checked~label.sk-toggleable__label {background-color: #d4ebff;}#sk-container-id-3 input.sk-hidden--visually {border: 0;clip: rect(1px 1px 1px 1px);clip: rect(1px, 1px, 1px, 1px);height: 1px;margin: -1px;overflow: hidden;padding: 0;position: absolute;width: 1px;}#sk-container-id-3 div.sk-estimator {font-family: monospace;background-color: #f0f8ff;border: 1px dotted black;border-radius: 0.25em;box-sizing: border-box;margin-bottom: 0.5em;}#sk-container-id-3 div.sk-estimator:hover {background-color: #d4ebff;}#sk-container-id-3 div.sk-parallel-item::after {content: \"\";width: 100%;border-bottom: 1px solid gray;flex-grow: 1;}#sk-container-id-3 div.sk-label:hover label.sk-toggleable__label {background-color: #d4ebff;}#sk-container-id-3 div.sk-serial::before {content: \"\";position: absolute;border-left: 1px solid gray;box-sizing: border-box;top: 0;bottom: 0;left: 50%;z-index: 0;}#sk-container-id-3 div.sk-serial {display: flex;flex-direction: column;align-items: center;background-color: white;padding-right: 0.2em;padding-left: 0.2em;position: relative;}#sk-container-id-3 div.sk-item {position: relative;z-index: 1;}#sk-container-id-3 div.sk-parallel {display: flex;align-items: stretch;justify-content: center;background-color: white;position: relative;}#sk-container-id-3 div.sk-item::before, #sk-container-id-3 div.sk-parallel-item::before {content: \"\";position: absolute;border-left: 1px solid gray;box-sizing: border-box;top: 0;bottom: 0;left: 50%;z-index: -1;}#sk-container-id-3 div.sk-parallel-item {display: flex;flex-direction: column;z-index: 1;position: relative;background-color: white;}#sk-container-id-3 div.sk-parallel-item:first-child::after {align-self: flex-end;width: 50%;}#sk-container-id-3 div.sk-parallel-item:last-child::after {align-self: flex-start;width: 50%;}#sk-container-id-3 div.sk-parallel-item:only-child::after {width: 0;}#sk-container-id-3 div.sk-dashed-wrapped {border: 1px dashed gray;margin: 0 0.4em 0.5em 0.4em;box-sizing: border-box;padding-bottom: 0.4em;background-color: white;}#sk-container-id-3 div.sk-label label {font-family: monospace;font-weight: bold;display: inline-block;line-height: 1.2em;}#sk-container-id-3 div.sk-label-container {text-align: center;}#sk-container-id-3 div.sk-container {/* jupyter's `normalize.less` sets `[hidden] { display: none; }` but bootstrap.min.css set `[hidden] { display: none !important; }` so we also need the `!important` here to be able to override the default hidden behavior on the sphinx rendered scikit-learn.org. See: https://github.com/scikit-learn/scikit-learn/issues/21755 */display: inline-block !important;position: relative;}#sk-container-id-3 div.sk-text-repr-fallback {display: none;}</style><div id=\"sk-container-id-3\" class=\"sk-top-container\"><div class=\"sk-text-repr-fallback\"><pre>Lasso(alpha=0.003225351634512081)</pre><b>In a Jupyter environment, please rerun this cell to show the HTML representation or trust the notebook. <br />On GitHub, the HTML representation is unable to render, please try loading this page with nbviewer.org.</b></div><div class=\"sk-container\" hidden><div class=\"sk-item\"><div class=\"sk-estimator sk-toggleable\"><input class=\"sk-toggleable__control sk-hidden--visually\" id=\"sk-estimator-id-3\" type=\"checkbox\" checked><label for=\"sk-estimator-id-3\" class=\"sk-toggleable__label sk-toggleable__label-arrow\">Lasso</label><div class=\"sk-toggleable__content\"><pre>Lasso(alpha=0.003225351634512081)</pre></div></div></div></div></div>"
      ],
      "text/plain": [
       "Lasso(alpha=0.003225351634512081)"
      ]
     },
     "execution_count": 24,
     "metadata": {},
     "output_type": "execute_result"
    }
   ],
   "source": [
    "# Now that we have parameter , let's use Lasso regression and see how well our data has fitted before\n",
    "\n",
    "lasso_reg = Lasso(alpha)\n",
    "lasso_reg.fit(x_train, y_train)"
   ]
  },
  {
   "cell_type": "code",
   "execution_count": 25,
   "id": "c319b9e5",
   "metadata": {},
   "outputs": [
    {
     "data": {
      "text/plain": [
       "0.9189542341109319"
      ]
     },
     "execution_count": 25,
     "metadata": {},
     "output_type": "execute_result"
    }
   ],
   "source": [
    "lasso_reg.score(x_test, y_test)"
   ]
  },
  {
   "cell_type": "markdown",
   "id": "9c6cef38",
   "metadata": {},
   "source": [
    "We got same r2 square using LASSO as well, So,it's safe to say there is no overfitting"
   ]
  },
  {
   "cell_type": "code",
   "execution_count": null,
   "id": "e8f1f611",
   "metadata": {},
   "outputs": [],
   "source": []
  }
 ],
 "metadata": {
  "kernelspec": {
   "display_name": "Python 3 (ipykernel)",
   "language": "python",
   "name": "python3"
  },
  "language_info": {
   "codemirror_mode": {
    "name": "ipython",
    "version": 3
   },
   "file_extension": ".py",
   "mimetype": "text/x-python",
   "name": "python",
   "nbconvert_exporter": "python",
   "pygments_lexer": "ipython3",
   "version": "3.9.12"
  }
 },
 "nbformat": 4,
 "nbformat_minor": 5
}
